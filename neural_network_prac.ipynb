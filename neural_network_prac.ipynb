{
 "cells": [
  {
   "cell_type": "code",
   "execution_count": 219,
   "metadata": {},
   "outputs": [
    {
     "data": {
      "text/plain": [
       "(35, 6)"
      ]
     },
     "execution_count": 219,
     "metadata": {},
     "output_type": "execute_result"
    }
   ],
   "source": [
    "import pandas as pd\n",
    "\n",
    "data = pd.read_csv(\"price_H11.csv\")\n",
    "data.shape"
   ]
  },
  {
   "cell_type": "code",
   "execution_count": 220,
   "metadata": {},
   "outputs": [
    {
     "data": {
      "text/plain": [
       "Index(['X1', 'X2', 'X3', 'X4', 'X5'], dtype='object')"
      ]
     },
     "execution_count": 220,
     "metadata": {},
     "output_type": "execute_result"
    }
   ],
   "source": [
    "feature_cols = data.columns[0:5]\n",
    "feature_cols"
   ]
  },
  {
   "cell_type": "code",
   "execution_count": 221,
   "metadata": {},
   "outputs": [],
   "source": [
    "from sklearn.preprocessing import StandardScaler\n",
    "scaler = StandardScaler()\n",
    "\n",
    "X_scaled = scaler.fit_transform(data[feature_cols])"
   ]
  },
  {
   "cell_type": "code",
   "execution_count": 222,
   "metadata": {},
   "outputs": [],
   "source": [
    "from sklearn.model_selection import train_test_split\n",
    "\n",
    "X_train,X_test,y_train,y_test = train_test_split(X_scaled,data['Y'],test_size=0.3)"
   ]
  },
  {
   "cell_type": "code",
   "execution_count": 223,
   "metadata": {},
   "outputs": [],
   "source": [
    "from tensorflow.keras.models import Sequential\n",
    "from tensorflow.keras.layers import Dense\n",
    "from tensorflow.keras.optimizers import SGD\n",
    "\n",
    "model = Sequential()\n",
    "model.add(Dense(units = 4, input_shape = (5,),activation = 'linear'))     #hidden layer\n",
    "model.add(Dense(units = 1,activation = 'linear'))   #output layer"
   ]
  },
  {
   "cell_type": "code",
   "execution_count": 224,
   "metadata": {},
   "outputs": [
    {
     "name": "stdout",
     "output_type": "stream",
     "text": [
      "Model: \"sequential_24\"\n",
      "_________________________________________________________________\n",
      " Layer (type)                Output Shape              Param #   \n",
      "=================================================================\n",
      " dense_47 (Dense)            (None, 4)                 24        \n",
      "                                                                 \n",
      " dense_48 (Dense)            (None, 1)                 5         \n",
      "                                                                 \n",
      "=================================================================\n",
      "Total params: 29\n",
      "Trainable params: 29\n",
      "Non-trainable params: 0\n",
      "_________________________________________________________________\n"
     ]
    }
   ],
   "source": [
    "model.summary()"
   ]
  },
  {
   "cell_type": "code",
   "execution_count": 225,
   "metadata": {},
   "outputs": [
    {
     "name": "stderr",
     "output_type": "stream",
     "text": [
      "/Users/jihoon/opt/anaconda3/envs/CS/lib/python3.10/site-packages/keras/optimizers/optimizer_v2/gradient_descent.py:108: UserWarning: The `lr` argument is deprecated, use `learning_rate` instead.\n",
      "  super(SGD, self).__init__(name, **kwargs)\n"
     ]
    }
   ],
   "source": [
    "model.compile(loss = 'mean_squared_error',optimizer= SGD(lr=0.01))"
   ]
  },
  {
   "cell_type": "code",
   "execution_count": 226,
   "metadata": {},
   "outputs": [
    {
     "name": "stdout",
     "output_type": "stream",
     "text": [
      "Epoch 1/150\n",
      "1/1 [==============================] - 0s 203ms/step - loss: 425.7906\n",
      "Epoch 2/150\n",
      "1/1 [==============================] - 0s 2ms/step - loss: 386.3797\n",
      "Epoch 3/150\n",
      "1/1 [==============================] - 0s 2ms/step - loss: 352.3873\n",
      "Epoch 4/150\n",
      "1/1 [==============================] - 0s 3ms/step - loss: 308.9914\n",
      "Epoch 5/150\n",
      "1/1 [==============================] - 0s 2ms/step - loss: 248.8808\n",
      "Epoch 6/150\n",
      "1/1 [==============================] - 0s 2ms/step - loss: 173.4017\n",
      "Epoch 7/150\n",
      "1/1 [==============================] - 0s 2ms/step - loss: 99.5325\n",
      "Epoch 8/150\n",
      "1/1 [==============================] - 0s 3ms/step - loss: 48.0578\n",
      "Epoch 9/150\n",
      "1/1 [==============================] - 0s 3ms/step - loss: 21.8315\n",
      "Epoch 10/150\n",
      "1/1 [==============================] - 0s 3ms/step - loss: 11.7339\n",
      "Epoch 11/150\n",
      "1/1 [==============================] - 0s 2ms/step - loss: 8.1862\n",
      "Epoch 12/150\n",
      "1/1 [==============================] - 0s 2ms/step - loss: 6.4976\n",
      "Epoch 13/150\n",
      "1/1 [==============================] - 0s 3ms/step - loss: 5.4126\n",
      "Epoch 14/150\n",
      "1/1 [==============================] - 0s 2ms/step - loss: 4.6414\n",
      "Epoch 15/150\n",
      "1/1 [==============================] - 0s 2ms/step - loss: 4.0799\n",
      "Epoch 16/150\n",
      "1/1 [==============================] - 0s 2ms/step - loss: 3.6676\n",
      "Epoch 17/150\n",
      "1/1 [==============================] - 0s 2ms/step - loss: 3.3633\n",
      "Epoch 18/150\n",
      "1/1 [==============================] - 0s 3ms/step - loss: 3.1374\n",
      "Epoch 19/150\n",
      "1/1 [==============================] - 0s 2ms/step - loss: 2.9690\n",
      "Epoch 20/150\n",
      "1/1 [==============================] - 0s 2ms/step - loss: 2.8427\n",
      "Epoch 21/150\n",
      "1/1 [==============================] - 0s 3ms/step - loss: 2.7475\n",
      "Epoch 22/150\n",
      "1/1 [==============================] - 0s 2ms/step - loss: 2.6754\n",
      "Epoch 23/150\n",
      "1/1 [==============================] - 0s 3ms/step - loss: 2.6205\n",
      "Epoch 24/150\n",
      "1/1 [==============================] - 0s 2ms/step - loss: 2.5784\n",
      "Epoch 25/150\n",
      "1/1 [==============================] - 0s 2ms/step - loss: 2.5460\n",
      "Epoch 26/150\n",
      "1/1 [==============================] - 0s 2ms/step - loss: 2.5209\n",
      "Epoch 27/150\n",
      "1/1 [==============================] - 0s 3ms/step - loss: 2.5014\n",
      "Epoch 28/150\n",
      "1/1 [==============================] - 0s 2ms/step - loss: 2.4862\n",
      "Epoch 29/150\n",
      "1/1 [==============================] - 0s 2ms/step - loss: 2.4743\n",
      "Epoch 30/150\n",
      "1/1 [==============================] - 0s 2ms/step - loss: 2.4649\n",
      "Epoch 31/150\n",
      "1/1 [==============================] - 0s 2ms/step - loss: 2.4575\n",
      "Epoch 32/150\n",
      "1/1 [==============================] - 0s 3ms/step - loss: 2.4516\n",
      "Epoch 33/150\n",
      "1/1 [==============================] - 0s 2ms/step - loss: 2.4469\n",
      "Epoch 34/150\n",
      "1/1 [==============================] - 0s 2ms/step - loss: 2.4432\n",
      "Epoch 35/150\n",
      "1/1 [==============================] - 0s 3ms/step - loss: 2.4402\n",
      "Epoch 36/150\n",
      "1/1 [==============================] - 0s 2ms/step - loss: 2.4378\n",
      "Epoch 37/150\n",
      "1/1 [==============================] - 0s 3ms/step - loss: 2.4359\n",
      "Epoch 38/150\n",
      "1/1 [==============================] - 0s 2ms/step - loss: 2.4343\n",
      "Epoch 39/150\n",
      "1/1 [==============================] - 0s 2ms/step - loss: 2.4331\n",
      "Epoch 40/150\n",
      "1/1 [==============================] - 0s 2ms/step - loss: 2.4321\n",
      "Epoch 41/150\n",
      "1/1 [==============================] - 0s 2ms/step - loss: 2.4313\n",
      "Epoch 42/150\n",
      "1/1 [==============================] - 0s 2ms/step - loss: 2.4306\n",
      "Epoch 43/150\n",
      "1/1 [==============================] - 0s 2ms/step - loss: 2.4301\n",
      "Epoch 44/150\n",
      "1/1 [==============================] - 0s 2ms/step - loss: 2.4296\n",
      "Epoch 45/150\n",
      "1/1 [==============================] - 0s 2ms/step - loss: 2.4293\n",
      "Epoch 46/150\n",
      "1/1 [==============================] - 0s 2ms/step - loss: 2.4290\n",
      "Epoch 47/150\n",
      "1/1 [==============================] - 0s 3ms/step - loss: 2.4288\n",
      "Epoch 48/150\n",
      "1/1 [==============================] - 0s 2ms/step - loss: 2.4286\n",
      "Epoch 49/150\n",
      "1/1 [==============================] - 0s 2ms/step - loss: 2.4285\n",
      "Epoch 50/150\n",
      "1/1 [==============================] - 0s 2ms/step - loss: 2.4283\n",
      "Epoch 51/150\n",
      "1/1 [==============================] - 0s 3ms/step - loss: 2.4282\n",
      "Epoch 52/150\n",
      "1/1 [==============================] - 0s 3ms/step - loss: 2.4282\n",
      "Epoch 53/150\n",
      "1/1 [==============================] - 0s 3ms/step - loss: 2.4281\n",
      "Epoch 54/150\n",
      "1/1 [==============================] - 0s 3ms/step - loss: 2.4280\n",
      "Epoch 55/150\n",
      "1/1 [==============================] - 0s 3ms/step - loss: 2.4280\n",
      "Epoch 56/150\n",
      "1/1 [==============================] - 0s 2ms/step - loss: 2.4280\n",
      "Epoch 57/150\n",
      "1/1 [==============================] - 0s 2ms/step - loss: 2.4279\n",
      "Epoch 58/150\n",
      "1/1 [==============================] - 0s 2ms/step - loss: 2.4279\n",
      "Epoch 59/150\n",
      "1/1 [==============================] - 0s 3ms/step - loss: 2.4279\n",
      "Epoch 60/150\n",
      "1/1 [==============================] - 0s 4ms/step - loss: 2.4279\n",
      "Epoch 61/150\n",
      "1/1 [==============================] - 0s 3ms/step - loss: 2.4279\n",
      "Epoch 62/150\n",
      "1/1 [==============================] - 0s 4ms/step - loss: 2.4279\n",
      "Epoch 63/150\n",
      "1/1 [==============================] - 0s 6ms/step - loss: 2.4278\n",
      "Epoch 64/150\n",
      "1/1 [==============================] - 0s 4ms/step - loss: 2.4278\n",
      "Epoch 65/150\n",
      "1/1 [==============================] - 0s 2ms/step - loss: 2.4278\n",
      "Epoch 66/150\n",
      "1/1 [==============================] - 0s 3ms/step - loss: 2.4278\n",
      "Epoch 67/150\n",
      "1/1 [==============================] - 0s 3ms/step - loss: 2.4278\n",
      "Epoch 68/150\n",
      "1/1 [==============================] - 0s 2ms/step - loss: 2.4278\n",
      "Epoch 69/150\n",
      "1/1 [==============================] - 0s 3ms/step - loss: 2.4278\n",
      "Epoch 70/150\n",
      "1/1 [==============================] - 0s 3ms/step - loss: 2.4278\n",
      "Epoch 71/150\n",
      "1/1 [==============================] - 0s 3ms/step - loss: 2.4278\n",
      "Epoch 72/150\n",
      "1/1 [==============================] - 0s 3ms/step - loss: 2.4278\n",
      "Epoch 73/150\n",
      "1/1 [==============================] - 0s 2ms/step - loss: 2.4278\n",
      "Epoch 74/150\n",
      "1/1 [==============================] - 0s 3ms/step - loss: 2.4278\n",
      "Epoch 75/150\n",
      "1/1 [==============================] - 0s 3ms/step - loss: 2.4278\n",
      "Epoch 76/150\n",
      "1/1 [==============================] - 0s 3ms/step - loss: 2.4278\n",
      "Epoch 77/150\n",
      "1/1 [==============================] - 0s 3ms/step - loss: 2.4278\n",
      "Epoch 78/150\n",
      "1/1 [==============================] - 0s 3ms/step - loss: 2.4278\n",
      "Epoch 79/150\n",
      "1/1 [==============================] - 0s 2ms/step - loss: 2.4278\n",
      "Epoch 80/150\n",
      "1/1 [==============================] - 0s 3ms/step - loss: 2.4278\n",
      "Epoch 81/150\n",
      "1/1 [==============================] - 0s 3ms/step - loss: 2.4278\n",
      "Epoch 82/150\n",
      "1/1 [==============================] - 0s 3ms/step - loss: 2.4278\n",
      "Epoch 83/150\n",
      "1/1 [==============================] - 0s 2ms/step - loss: 2.4278\n",
      "Epoch 84/150\n",
      "1/1 [==============================] - 0s 3ms/step - loss: 2.4278\n",
      "Epoch 85/150\n",
      "1/1 [==============================] - 0s 3ms/step - loss: 2.4278\n",
      "Epoch 86/150\n",
      "1/1 [==============================] - 0s 3ms/step - loss: 2.4278\n",
      "Epoch 87/150\n",
      "1/1 [==============================] - 0s 3ms/step - loss: 2.4278\n",
      "Epoch 88/150\n",
      "1/1 [==============================] - 0s 3ms/step - loss: 2.4278\n",
      "Epoch 89/150\n",
      "1/1 [==============================] - 0s 3ms/step - loss: 2.4278\n",
      "Epoch 90/150\n",
      "1/1 [==============================] - 0s 3ms/step - loss: 2.4278\n",
      "Epoch 91/150\n",
      "1/1 [==============================] - 0s 3ms/step - loss: 2.4278\n",
      "Epoch 92/150\n",
      "1/1 [==============================] - 0s 3ms/step - loss: 2.4278\n",
      "Epoch 93/150\n",
      "1/1 [==============================] - 0s 3ms/step - loss: 2.4278\n",
      "Epoch 94/150\n",
      "1/1 [==============================] - 0s 3ms/step - loss: 2.4278\n",
      "Epoch 95/150\n",
      "1/1 [==============================] - 0s 2ms/step - loss: 2.4278\n",
      "Epoch 96/150\n",
      "1/1 [==============================] - 0s 3ms/step - loss: 2.4278\n",
      "Epoch 97/150\n",
      "1/1 [==============================] - 0s 3ms/step - loss: 2.4278\n",
      "Epoch 98/150\n",
      "1/1 [==============================] - 0s 3ms/step - loss: 2.4278\n",
      "Epoch 99/150\n",
      "1/1 [==============================] - 0s 3ms/step - loss: 2.4278\n",
      "Epoch 100/150\n",
      "1/1 [==============================] - 0s 3ms/step - loss: 2.4278\n",
      "Epoch 101/150\n",
      "1/1 [==============================] - 0s 4ms/step - loss: 2.4278\n",
      "Epoch 102/150\n",
      "1/1 [==============================] - 0s 3ms/step - loss: 2.4278\n",
      "Epoch 103/150\n",
      "1/1 [==============================] - 0s 3ms/step - loss: 2.4278\n",
      "Epoch 104/150\n",
      "1/1 [==============================] - 0s 3ms/step - loss: 2.4278\n",
      "Epoch 105/150\n",
      "1/1 [==============================] - 0s 3ms/step - loss: 2.4278\n",
      "Epoch 106/150\n",
      "1/1 [==============================] - 0s 3ms/step - loss: 2.4278\n",
      "Epoch 107/150\n",
      "1/1 [==============================] - 0s 3ms/step - loss: 2.4278\n",
      "Epoch 108/150\n",
      "1/1 [==============================] - 0s 3ms/step - loss: 2.4278\n",
      "Epoch 109/150\n",
      "1/1 [==============================] - 0s 3ms/step - loss: 2.4278\n",
      "Epoch 110/150\n",
      "1/1 [==============================] - 0s 3ms/step - loss: 2.4278\n",
      "Epoch 111/150\n",
      "1/1 [==============================] - 0s 3ms/step - loss: 2.4278\n",
      "Epoch 112/150\n",
      "1/1 [==============================] - 0s 3ms/step - loss: 2.4278\n",
      "Epoch 113/150\n",
      "1/1 [==============================] - 0s 3ms/step - loss: 2.4278\n",
      "Epoch 114/150\n",
      "1/1 [==============================] - 0s 3ms/step - loss: 2.4278\n",
      "Epoch 115/150\n",
      "1/1 [==============================] - 0s 3ms/step - loss: 2.4278\n",
      "Epoch 116/150\n",
      "1/1 [==============================] - 0s 2ms/step - loss: 2.4278\n",
      "Epoch 117/150\n",
      "1/1 [==============================] - 0s 3ms/step - loss: 2.4278\n",
      "Epoch 118/150\n",
      "1/1 [==============================] - 0s 3ms/step - loss: 2.4278\n",
      "Epoch 119/150\n",
      "1/1 [==============================] - 0s 3ms/step - loss: 2.4278\n",
      "Epoch 120/150\n",
      "1/1 [==============================] - 0s 3ms/step - loss: 2.4278\n",
      "Epoch 121/150\n",
      "1/1 [==============================] - 0s 4ms/step - loss: 2.4278\n",
      "Epoch 122/150\n",
      "1/1 [==============================] - 0s 2ms/step - loss: 2.4278\n",
      "Epoch 123/150\n",
      "1/1 [==============================] - 0s 3ms/step - loss: 2.4278\n",
      "Epoch 124/150\n",
      "1/1 [==============================] - 0s 3ms/step - loss: 2.4278\n",
      "Epoch 125/150\n",
      "1/1 [==============================] - 0s 3ms/step - loss: 2.4278\n",
      "Epoch 126/150\n",
      "1/1 [==============================] - 0s 3ms/step - loss: 2.4278\n",
      "Epoch 127/150\n",
      "1/1 [==============================] - 0s 3ms/step - loss: 2.4278\n",
      "Epoch 128/150\n",
      "1/1 [==============================] - 0s 3ms/step - loss: 2.4278\n",
      "Epoch 129/150\n",
      "1/1 [==============================] - 0s 3ms/step - loss: 2.4278\n",
      "Epoch 130/150\n",
      "1/1 [==============================] - 0s 3ms/step - loss: 2.4278\n",
      "Epoch 131/150\n",
      "1/1 [==============================] - 0s 3ms/step - loss: 2.4278\n",
      "Epoch 132/150\n",
      "1/1 [==============================] - 0s 3ms/step - loss: 2.4278\n",
      "Epoch 133/150\n",
      "1/1 [==============================] - 0s 3ms/step - loss: 2.4278\n",
      "Epoch 134/150\n",
      "1/1 [==============================] - 0s 3ms/step - loss: 2.4278\n",
      "Epoch 135/150\n",
      "1/1 [==============================] - 0s 3ms/step - loss: 2.4278\n",
      "Epoch 136/150\n",
      "1/1 [==============================] - 0s 3ms/step - loss: 2.4278\n",
      "Epoch 137/150\n",
      "1/1 [==============================] - 0s 3ms/step - loss: 2.4278\n",
      "Epoch 138/150\n",
      "1/1 [==============================] - 0s 3ms/step - loss: 2.4278\n",
      "Epoch 139/150\n",
      "1/1 [==============================] - 0s 3ms/step - loss: 2.4278\n",
      "Epoch 140/150\n",
      "1/1 [==============================] - 0s 2ms/step - loss: 2.4278\n",
      "Epoch 141/150\n",
      "1/1 [==============================] - 0s 2ms/step - loss: 2.4278\n",
      "Epoch 142/150\n",
      "1/1 [==============================] - 0s 3ms/step - loss: 2.4278\n",
      "Epoch 143/150\n",
      "1/1 [==============================] - 0s 4ms/step - loss: 2.4278\n",
      "Epoch 144/150\n",
      "1/1 [==============================] - 0s 3ms/step - loss: 2.4278\n",
      "Epoch 145/150\n",
      "1/1 [==============================] - 0s 3ms/step - loss: 2.4278\n",
      "Epoch 146/150\n",
      "1/1 [==============================] - 0s 3ms/step - loss: 2.4278\n",
      "Epoch 147/150\n",
      "1/1 [==============================] - 0s 3ms/step - loss: 2.4278\n",
      "Epoch 148/150\n",
      "1/1 [==============================] - 0s 3ms/step - loss: 2.4278\n",
      "Epoch 149/150\n",
      "1/1 [==============================] - 0s 2ms/step - loss: 2.4278\n",
      "Epoch 150/150\n",
      "1/1 [==============================] - 0s 3ms/step - loss: 2.4278\n"
     ]
    },
    {
     "data": {
      "text/plain": [
       "<keras.callbacks.History at 0x7fcaea143be0>"
      ]
     },
     "execution_count": 226,
     "metadata": {},
     "output_type": "execute_result"
    }
   ],
   "source": [
    "model.fit(X_train,y_train,epochs=150,verbose=1)"
   ]
  },
  {
   "cell_type": "code",
   "execution_count": 227,
   "metadata": {},
   "outputs": [
    {
     "name": "stdout",
     "output_type": "stream",
     "text": [
      "1/1 [==============================] - 0s 44ms/step\n",
      "[[20.2602  ]\n",
      " [14.360234]\n",
      " [17.327454]\n",
      " [19.816948]\n",
      " [32.872066]\n",
      " [19.750822]\n",
      " [20.232016]\n",
      " [19.022278]\n",
      " [15.54905 ]\n",
      " [19.138388]\n",
      " [13.59094 ]]\n"
     ]
    }
   ],
   "source": [
    "y_pred = model.predict(X_test)\n",
    "print(y_pred)"
   ]
  },
  {
   "cell_type": "code",
   "execution_count": 228,
   "metadata": {},
   "outputs": [
    {
     "data": {
      "text/plain": [
       "9.809755981270717"
      ]
     },
     "execution_count": 228,
     "metadata": {},
     "output_type": "execute_result"
    }
   ],
   "source": [
    "from sklearn.metrics import mean_squared_error \n",
    "mean_squared_error(y_test, y_pred)"
   ]
  }
 ],
 "metadata": {
  "kernelspec": {
   "display_name": "Python 3.10.4 ('CS')",
   "language": "python",
   "name": "python3"
  },
  "language_info": {
   "codemirror_mode": {
    "name": "ipython",
    "version": 3
   },
   "file_extension": ".py",
   "mimetype": "text/x-python",
   "name": "python",
   "nbconvert_exporter": "python",
   "pygments_lexer": "ipython3",
   "version": "3.10.4"
  },
  "orig_nbformat": 4,
  "vscode": {
   "interpreter": {
    "hash": "d40ae402c86d06323290f29ff476bad7a1b566e0e1d36396e978edcb8922d53c"
   }
  }
 },
 "nbformat": 4,
 "nbformat_minor": 2
}
